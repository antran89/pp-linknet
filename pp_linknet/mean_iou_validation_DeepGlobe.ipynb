{
 "cells": [
  {
   "cell_type": "code",
   "execution_count": 1,
   "metadata": {},
   "outputs": [],
   "source": [
    "import matplotlib.pyplot as plt\n",
    "import cv2\n",
    "import os\n",
    "import numpy as np\n",
    "import glob"
   ]
  },
  {
   "cell_type": "code",
   "execution_count": 2,
   "metadata": {},
   "outputs": [],
   "source": [
    "def compute_iou(gt, pred):\n",
    "    gt = gt.reshape(-1)\n",
    "    pred = pred.reshape(-1)\n",
    "    assert(len(gt) == len(pred))\n",
    "    num_gt_pixels = np.count_nonzero(gt)\n",
    "    num_pred_pixels = np.count_nonzero(pred)\n",
    "    intersection = np.count_nonzero(np.logical_and(gt>0, pred>0))\n",
    "    union = num_gt_pixels + num_pred_pixels - intersection\n",
    "    return float(intersection)/union"
   ]
  },
  {
   "cell_type": "code",
   "execution_count": 3,
   "metadata": {},
   "outputs": [],
   "source": [
    "source = '../../../map-workspace/data/grab-deep-globe/valid/'\n",
    "weight_path = 'weights/DinkNet34_psp64_big_01.th'\n",
    "target = os.path.join('../../../map-workspace/data/deep-globe/results/', os.path.basename(weight_path)[:-3])"
   ]
  },
  {
   "cell_type": "code",
   "execution_count": 4,
   "metadata": {},
   "outputs": [
    {
     "name": "stdout",
     "output_type": "stream",
     "text": [
      "Mean IOU of the prediction model DinkNet34_psp64_big_01.th on validation set: 0.671114\n"
     ]
    }
   ],
   "source": [
    "# compute mIOU\n",
    "mean_iou = 0\n",
    "gt_files = glob.glob(os.path.join(source, '*_mask.png'))\n",
    "for path in gt_files:\n",
    "    gt = cv2.imread(path, cv2.IMREAD_GRAYSCALE)\n",
    "    name = os.path.basename(path)\n",
    "    pred_path = os.path.join(target, name)\n",
    "    pred = cv2.imread(pred_path, cv2.IMREAD_GRAYSCALE)\n",
    "    iou = compute_iou(gt, pred)\n",
    "    mean_iou += iou\n",
    "    \n",
    "mean_iou = mean_iou/len(gt_files)\n",
    "print('Mean IOU of the prediction model %s on validation set: %f' % (os.path.basename(weight_path), mean_iou))"
   ]
  },
  {
   "cell_type": "code",
   "execution_count": null,
   "metadata": {},
   "outputs": [],
   "source": []
  }
 ],
 "metadata": {
  "kernelspec": {
   "display_name": "Python 2",
   "language": "python",
   "name": "python2"
  },
  "language_info": {
   "codemirror_mode": {
    "name": "ipython",
    "version": 2
   },
   "file_extension": ".py",
   "mimetype": "text/x-python",
   "name": "python",
   "nbconvert_exporter": "python",
   "pygments_lexer": "ipython2",
   "version": "2.7.12"
  }
 },
 "nbformat": 4,
 "nbformat_minor": 2
}
